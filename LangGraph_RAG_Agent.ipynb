{
  "cells": [
    {
      "cell_type": "code",
      "execution_count": null,
      "metadata": {
        "colab": {
          "base_uri": "https://localhost:8080/"
        },
        "id": "LjoHmCXS2Smx",
        "outputId": "efba5228-a012-49d9-ad9f-5310fd708a45"
      },
      "outputs": [
        {
          "name": "stdout",
          "output_type": "stream",
          "text": [
            "\n",
            "Usage:   \n",
            "  pip3 install [options] <requirement specifier> [package-index-options] ...\n",
            "  pip3 install [options] -r <requirements file> [package-index-options] ...\n",
            "  pip3 install [options] [-e] <vcs project url> ...\n",
            "  pip3 install [options] [-e] <local project path> ...\n",
            "  pip3 install [options] <archive url/path> ...\n",
            "\n",
            "no such option: -u\n"
          ]
        }
      ],
      "source": [
        "!pip install -qu langchain langchain-openai langchain-community langchain-core"
      ]
    },
    {
      "cell_type": "code",
      "execution_count": null,
      "metadata": {
        "id": "lioeBVPo2YAg"
      },
      "outputs": [],
      "source": [
        "import os\n",
        "if not os.getenv(\"OPENAI_API_KEY\"):\n",
        "    os.environ[\"OPENAI_API_KEY\"] = \"secret\"\n"
      ]
    },
    {
      "cell_type": "code",
      "execution_count": null,
      "metadata": {
        "id": "cADwDN_Q2nw2"
      },
      "outputs": [],
      "source": [
        "os.environ[\"LANGSMITH_TRACING\"] = \"true\"\n",
        "os.environ[\"LANGSMITH_API_KEY\"] = \"secret\"\n",
        "os.environ[\"LANGSMITH_PROJECT\"] = \"langgraph-rag\""
      ]
    },
    {
      "cell_type": "code",
      "execution_count": null,
      "metadata": {
        "colab": {
          "base_uri": "https://localhost:8080/"
        },
        "id": "lo4uMa8m3S75",
        "outputId": "b1d28cae-045f-4e1f-dd7f-26f8ddbf6dbd"
      },
      "outputs": [
        {
          "name": "stdout",
          "output_type": "stream",
          "text": [
            "Requirement already satisfied: langchain_openai in /usr/local/lib/python3.11/dist-packages (0.3.29)\n",
            "Requirement already satisfied: langchain-core<1.0.0,>=0.3.74 in /usr/local/lib/python3.11/dist-packages (from langchain_openai) (0.3.74)\n",
            "Requirement already satisfied: openai<2.0.0,>=1.86.0 in /usr/local/lib/python3.11/dist-packages (from langchain_openai) (1.99.1)\n",
            "Requirement already satisfied: tiktoken<1,>=0.7 in /usr/local/lib/python3.11/dist-packages (from langchain_openai) (0.10.0)\n",
            "Requirement already satisfied: langsmith>=0.3.45 in /usr/local/lib/python3.11/dist-packages (from langchain-core<1.0.0,>=0.3.74->langchain_openai) (0.4.12)\n",
            "Requirement already satisfied: tenacity!=8.4.0,<10.0.0,>=8.1.0 in /usr/local/lib/python3.11/dist-packages (from langchain-core<1.0.0,>=0.3.74->langchain_openai) (8.5.0)\n",
            "Requirement already satisfied: jsonpatch<2.0,>=1.33 in /usr/local/lib/python3.11/dist-packages (from langchain-core<1.0.0,>=0.3.74->langchain_openai) (1.33)\n",
            "Requirement already satisfied: PyYAML>=5.3 in /usr/local/lib/python3.11/dist-packages (from langchain-core<1.0.0,>=0.3.74->langchain_openai) (6.0.2)\n",
            "Requirement already satisfied: typing-extensions>=4.7 in /usr/local/lib/python3.11/dist-packages (from langchain-core<1.0.0,>=0.3.74->langchain_openai) (4.14.1)\n",
            "Requirement already satisfied: packaging>=23.2 in /usr/local/lib/python3.11/dist-packages (from langchain-core<1.0.0,>=0.3.74->langchain_openai) (25.0)\n",
            "Requirement already satisfied: pydantic>=2.7.4 in /usr/local/lib/python3.11/dist-packages (from langchain-core<1.0.0,>=0.3.74->langchain_openai) (2.11.7)\n",
            "Requirement already satisfied: anyio<5,>=3.5.0 in /usr/local/lib/python3.11/dist-packages (from openai<2.0.0,>=1.86.0->langchain_openai) (4.10.0)\n",
            "Requirement already satisfied: distro<2,>=1.7.0 in /usr/local/lib/python3.11/dist-packages (from openai<2.0.0,>=1.86.0->langchain_openai) (1.9.0)\n",
            "Requirement already satisfied: httpx<1,>=0.23.0 in /usr/local/lib/python3.11/dist-packages (from openai<2.0.0,>=1.86.0->langchain_openai) (0.28.1)\n",
            "Requirement already satisfied: jiter<1,>=0.4.0 in /usr/local/lib/python3.11/dist-packages (from openai<2.0.0,>=1.86.0->langchain_openai) (0.10.0)\n",
            "Requirement already satisfied: sniffio in /usr/local/lib/python3.11/dist-packages (from openai<2.0.0,>=1.86.0->langchain_openai) (1.3.1)\n",
            "Requirement already satisfied: tqdm>4 in /usr/local/lib/python3.11/dist-packages (from openai<2.0.0,>=1.86.0->langchain_openai) (4.67.1)\n",
            "Requirement already satisfied: regex>=2022.1.18 in /usr/local/lib/python3.11/dist-packages (from tiktoken<1,>=0.7->langchain_openai) (2024.11.6)\n",
            "Requirement already satisfied: requests>=2.26.0 in /usr/local/lib/python3.11/dist-packages (from tiktoken<1,>=0.7->langchain_openai) (2.32.3)\n",
            "Requirement already satisfied: idna>=2.8 in /usr/local/lib/python3.11/dist-packages (from anyio<5,>=3.5.0->openai<2.0.0,>=1.86.0->langchain_openai) (3.10)\n",
            "Requirement already satisfied: certifi in /usr/local/lib/python3.11/dist-packages (from httpx<1,>=0.23.0->openai<2.0.0,>=1.86.0->langchain_openai) (2025.8.3)\n",
            "Requirement already satisfied: httpcore==1.* in /usr/local/lib/python3.11/dist-packages (from httpx<1,>=0.23.0->openai<2.0.0,>=1.86.0->langchain_openai) (1.0.9)\n",
            "Requirement already satisfied: h11>=0.16 in /usr/local/lib/python3.11/dist-packages (from httpcore==1.*->httpx<1,>=0.23.0->openai<2.0.0,>=1.86.0->langchain_openai) (0.16.0)\n",
            "Requirement already satisfied: jsonpointer>=1.9 in /usr/local/lib/python3.11/dist-packages (from jsonpatch<2.0,>=1.33->langchain-core<1.0.0,>=0.3.74->langchain_openai) (3.0.0)\n",
            "Requirement already satisfied: orjson>=3.9.14 in /usr/local/lib/python3.11/dist-packages (from langsmith>=0.3.45->langchain-core<1.0.0,>=0.3.74->langchain_openai) (3.11.1)\n",
            "Requirement already satisfied: requests-toolbelt>=1.0.0 in /usr/local/lib/python3.11/dist-packages (from langsmith>=0.3.45->langchain-core<1.0.0,>=0.3.74->langchain_openai) (1.0.0)\n",
            "Requirement already satisfied: zstandard>=0.23.0 in /usr/local/lib/python3.11/dist-packages (from langsmith>=0.3.45->langchain-core<1.0.0,>=0.3.74->langchain_openai) (0.23.0)\n",
            "Requirement already satisfied: annotated-types>=0.6.0 in /usr/local/lib/python3.11/dist-packages (from pydantic>=2.7.4->langchain-core<1.0.0,>=0.3.74->langchain_openai) (0.7.0)\n",
            "Requirement already satisfied: pydantic-core==2.33.2 in /usr/local/lib/python3.11/dist-packages (from pydantic>=2.7.4->langchain-core<1.0.0,>=0.3.74->langchain_openai) (2.33.2)\n",
            "Requirement already satisfied: typing-inspection>=0.4.0 in /usr/local/lib/python3.11/dist-packages (from pydantic>=2.7.4->langchain-core<1.0.0,>=0.3.74->langchain_openai) (0.4.1)\n",
            "Requirement already satisfied: charset-normalizer<4,>=2 in /usr/local/lib/python3.11/dist-packages (from requests>=2.26.0->tiktoken<1,>=0.7->langchain_openai) (3.4.2)\n",
            "Requirement already satisfied: urllib3<3,>=1.21.1 in /usr/local/lib/python3.11/dist-packages (from requests>=2.26.0->tiktoken<1,>=0.7->langchain_openai) (2.5.0)\n"
          ]
        }
      ],
      "source": [
        "pip install langchain_openai"
      ]
    },
    {
      "cell_type": "code",
      "execution_count": null,
      "metadata": {
        "id": "WX5CK5QX28FU"
      },
      "outputs": [],
      "source": [
        "from langchain_openai import ChatOpenAI"
      ]
    },
    {
      "cell_type": "code",
      "execution_count": null,
      "metadata": {
        "colab": {
          "base_uri": "https://localhost:8080/"
        },
        "id": "M3BoYpEf3Vzp",
        "outputId": "f33f20d3-17fe-44d2-abe7-d46e190d76c0"
      },
      "outputs": [
        {
          "data": {
            "text/plain": [
              "AIMessage(content='Artificial intelligence (AI) refers to the simulation of human intelligence in machines that are programmed to think, learn, and make decisions. These machines can perform tasks that typically require human cognitive functions such as understanding language, recognizing patterns, solving problems, and adapting to new information. AI encompasses a variety of techniques including machine learning, natural language processing, computer vision, and robotics, and it is used in applications ranging from virtual assistants and recommendation systems to autonomous vehicles and medical diagnosis.', additional_kwargs={'refusal': None}, response_metadata={'token_usage': {'completion_tokens': 94, 'prompt_tokens': 12, 'total_tokens': 106, 'completion_tokens_details': {'accepted_prediction_tokens': 0, 'audio_tokens': 0, 'reasoning_tokens': 0, 'rejected_prediction_tokens': 0}, 'prompt_tokens_details': {'audio_tokens': 0, 'cached_tokens': 0}}, 'model_name': 'gpt-4.1-mini-2025-04-14', 'system_fingerprint': 'fp_6f2eabb9a5', 'id': 'chatcmpl-C33Uu7iuvWQE3MSwppszpYNttp5G4', 'service_tier': 'default', 'finish_reason': 'stop', 'logprobs': None}, id='run--03f0a3d6-db58-47fe-8cef-4cfee9990e3e-0', usage_metadata={'input_tokens': 12, 'output_tokens': 94, 'total_tokens': 106, 'input_token_details': {'audio': 0, 'cache_read': 0}, 'output_token_details': {'audio': 0, 'reasoning': 0}})"
            ]
          },
          "execution_count": 22,
          "metadata": {},
          "output_type": "execute_result"
        }
      ],
      "source": [
        "llm = ChatOpenAI(model=\"gpt-4.1-mini\", temperature=0.7)\n",
        "response = llm.invoke(\"What is artificial intelligence?\")\n",
        "response"
      ]
    },
    {
      "cell_type": "code",
      "execution_count": null,
      "metadata": {
        "colab": {
          "base_uri": "https://localhost:8080/"
        },
        "id": "A59zK9NU3qRz",
        "outputId": "45cc47d9-f0db-4128-be58-14b83342a8f4"
      },
      "outputs": [
        {
          "data": {
            "text/plain": [
              "AIMessage(content='Deep Learning is a subset of machine learning that uses neural networks with many layers to automatically learn patterns from large amounts of data. It excels at tasks like image and speech recognition by mimicking how the human brain processes information.', additional_kwargs={'refusal': None}, response_metadata={'token_usage': {'completion_tokens': 44, 'prompt_tokens': 31, 'total_tokens': 75, 'completion_tokens_details': {'accepted_prediction_tokens': 0, 'audio_tokens': 0, 'reasoning_tokens': 0, 'rejected_prediction_tokens': 0}, 'prompt_tokens_details': {'audio_tokens': 0, 'cached_tokens': 0}}, 'model_name': 'gpt-4.1-mini-2025-04-14', 'system_fingerprint': 'fp_6f2eabb9a5', 'id': 'chatcmpl-C33UvbYmcy50ZIIpqEwZY2Qibl5VZ', 'service_tier': 'default', 'finish_reason': 'stop', 'logprobs': None}, id='run--e75015f1-f2e7-43cd-a523-5f242165d0e3-0', usage_metadata={'input_tokens': 31, 'output_tokens': 44, 'total_tokens': 75, 'input_token_details': {'audio': 0, 'cache_read': 0}, 'output_token_details': {'audio': 0, 'reasoning': 0}})"
            ]
          },
          "execution_count": 23,
          "metadata": {},
          "output_type": "execute_result"
        }
      ],
      "source": [
        "from langchain_core.messages import SystemMessage, HumanMessage\n",
        "message = [\n",
        "    SystemMessage(content=\"You are a helpful AI Chatbot that explains complex topic simply\"),\n",
        "    HumanMessage(content=\"Explain about Deep Learning in 2 lines\")\n",
        "]\n",
        "response = llm.invoke(message)\n",
        "response"
      ]
    },
    {
      "cell_type": "code",
      "execution_count": null,
      "metadata": {
        "colab": {
          "base_uri": "https://localhost:8080/"
        },
        "id": "7WbHgDgQ4xgs",
        "outputId": "76d35d98-3672-4eba-978c-3c4c1088102a"
      },
      "outputs": [
        {
          "name": "stdout",
          "output_type": "stream",
          "text": [
            "\n",
            "Usage:   \n",
            "  pip3 install [options] <requirement specifier> [package-index-options] ...\n",
            "  pip3 install [options] -r <requirements file> [package-index-options] ...\n",
            "  pip3 install [options] [-e] <vcs project url> ...\n",
            "  pip3 install [options] [-e] <local project path> ...\n",
            "  pip3 install [options] <archive url/path> ...\n",
            "\n",
            "no such option: -u\n"
          ]
        }
      ],
      "source": [
        "pip install -qu duckduckgo-search"
      ]
    },
    {
      "cell_type": "code",
      "execution_count": null,
      "metadata": {
        "colab": {
          "base_uri": "https://localhost:8080/"
        },
        "id": "Av649i4Q42D7",
        "outputId": "dceaef60-72a4-4ec6-adcb-44d3199db38e"
      },
      "outputs": [
        {
          "name": "stdout",
          "output_type": "stream",
          "text": [
            "Requirement already satisfied: langchain_community in /usr/local/lib/python3.11/dist-packages (0.3.27)\n",
            "Requirement already satisfied: langchain-core<1.0.0,>=0.3.66 in /usr/local/lib/python3.11/dist-packages (from langchain_community) (0.3.74)\n",
            "Requirement already satisfied: langchain<1.0.0,>=0.3.26 in /usr/local/lib/python3.11/dist-packages (from langchain_community) (0.3.27)\n",
            "Requirement already satisfied: SQLAlchemy<3,>=1.4 in /usr/local/lib/python3.11/dist-packages (from langchain_community) (2.0.42)\n",
            "Requirement already satisfied: requests<3,>=2 in /usr/local/lib/python3.11/dist-packages (from langchain_community) (2.32.3)\n",
            "Requirement already satisfied: PyYAML>=5.3 in /usr/local/lib/python3.11/dist-packages (from langchain_community) (6.0.2)\n",
            "Requirement already satisfied: aiohttp<4.0.0,>=3.8.3 in /usr/local/lib/python3.11/dist-packages (from langchain_community) (3.12.15)\n",
            "Requirement already satisfied: tenacity!=8.4.0,<10,>=8.1.0 in /usr/local/lib/python3.11/dist-packages (from langchain_community) (8.5.0)\n",
            "Requirement already satisfied: dataclasses-json<0.7,>=0.5.7 in /usr/local/lib/python3.11/dist-packages (from langchain_community) (0.6.7)\n",
            "Requirement already satisfied: pydantic-settings<3.0.0,>=2.4.0 in /usr/local/lib/python3.11/dist-packages (from langchain_community) (2.10.1)\n",
            "Requirement already satisfied: langsmith>=0.1.125 in /usr/local/lib/python3.11/dist-packages (from langchain_community) (0.4.12)\n",
            "Requirement already satisfied: httpx-sse<1.0.0,>=0.4.0 in /usr/local/lib/python3.11/dist-packages (from langchain_community) (0.4.1)\n",
            "Requirement already satisfied: numpy>=1.26.2 in /usr/local/lib/python3.11/dist-packages (from langchain_community) (2.0.2)\n",
            "Requirement already satisfied: aiohappyeyeballs>=2.5.0 in /usr/local/lib/python3.11/dist-packages (from aiohttp<4.0.0,>=3.8.3->langchain_community) (2.6.1)\n",
            "Requirement already satisfied: aiosignal>=1.4.0 in /usr/local/lib/python3.11/dist-packages (from aiohttp<4.0.0,>=3.8.3->langchain_community) (1.4.0)\n",
            "Requirement already satisfied: attrs>=17.3.0 in /usr/local/lib/python3.11/dist-packages (from aiohttp<4.0.0,>=3.8.3->langchain_community) (25.3.0)\n",
            "Requirement already satisfied: frozenlist>=1.1.1 in /usr/local/lib/python3.11/dist-packages (from aiohttp<4.0.0,>=3.8.3->langchain_community) (1.7.0)\n",
            "Requirement already satisfied: multidict<7.0,>=4.5 in /usr/local/lib/python3.11/dist-packages (from aiohttp<4.0.0,>=3.8.3->langchain_community) (6.6.3)\n",
            "Requirement already satisfied: propcache>=0.2.0 in /usr/local/lib/python3.11/dist-packages (from aiohttp<4.0.0,>=3.8.3->langchain_community) (0.3.2)\n",
            "Requirement already satisfied: yarl<2.0,>=1.17.0 in /usr/local/lib/python3.11/dist-packages (from aiohttp<4.0.0,>=3.8.3->langchain_community) (1.20.1)\n",
            "Requirement already satisfied: marshmallow<4.0.0,>=3.18.0 in /usr/local/lib/python3.11/dist-packages (from dataclasses-json<0.7,>=0.5.7->langchain_community) (3.26.1)\n",
            "Requirement already satisfied: typing-inspect<1,>=0.4.0 in /usr/local/lib/python3.11/dist-packages (from dataclasses-json<0.7,>=0.5.7->langchain_community) (0.9.0)\n",
            "Requirement already satisfied: langchain-text-splitters<1.0.0,>=0.3.9 in /usr/local/lib/python3.11/dist-packages (from langchain<1.0.0,>=0.3.26->langchain_community) (0.3.9)\n",
            "Requirement already satisfied: pydantic<3.0.0,>=2.7.4 in /usr/local/lib/python3.11/dist-packages (from langchain<1.0.0,>=0.3.26->langchain_community) (2.11.7)\n",
            "Requirement already satisfied: jsonpatch<2.0,>=1.33 in /usr/local/lib/python3.11/dist-packages (from langchain-core<1.0.0,>=0.3.66->langchain_community) (1.33)\n",
            "Requirement already satisfied: typing-extensions>=4.7 in /usr/local/lib/python3.11/dist-packages (from langchain-core<1.0.0,>=0.3.66->langchain_community) (4.14.1)\n",
            "Requirement already satisfied: packaging>=23.2 in /usr/local/lib/python3.11/dist-packages (from langchain-core<1.0.0,>=0.3.66->langchain_community) (25.0)\n",
            "Requirement already satisfied: httpx<1,>=0.23.0 in /usr/local/lib/python3.11/dist-packages (from langsmith>=0.1.125->langchain_community) (0.28.1)\n",
            "Requirement already satisfied: orjson>=3.9.14 in /usr/local/lib/python3.11/dist-packages (from langsmith>=0.1.125->langchain_community) (3.11.1)\n",
            "Requirement already satisfied: requests-toolbelt>=1.0.0 in /usr/local/lib/python3.11/dist-packages (from langsmith>=0.1.125->langchain_community) (1.0.0)\n",
            "Requirement already satisfied: zstandard>=0.23.0 in /usr/local/lib/python3.11/dist-packages (from langsmith>=0.1.125->langchain_community) (0.23.0)\n",
            "Requirement already satisfied: python-dotenv>=0.21.0 in /usr/local/lib/python3.11/dist-packages (from pydantic-settings<3.0.0,>=2.4.0->langchain_community) (1.1.1)\n",
            "Requirement already satisfied: typing-inspection>=0.4.0 in /usr/local/lib/python3.11/dist-packages (from pydantic-settings<3.0.0,>=2.4.0->langchain_community) (0.4.1)\n",
            "Requirement already satisfied: charset-normalizer<4,>=2 in /usr/local/lib/python3.11/dist-packages (from requests<3,>=2->langchain_community) (3.4.2)\n",
            "Requirement already satisfied: idna<4,>=2.5 in /usr/local/lib/python3.11/dist-packages (from requests<3,>=2->langchain_community) (3.10)\n",
            "Requirement already satisfied: urllib3<3,>=1.21.1 in /usr/local/lib/python3.11/dist-packages (from requests<3,>=2->langchain_community) (2.5.0)\n",
            "Requirement already satisfied: certifi>=2017.4.17 in /usr/local/lib/python3.11/dist-packages (from requests<3,>=2->langchain_community) (2025.8.3)\n",
            "Requirement already satisfied: greenlet>=1 in /usr/local/lib/python3.11/dist-packages (from SQLAlchemy<3,>=1.4->langchain_community) (3.2.3)\n",
            "Requirement already satisfied: anyio in /usr/local/lib/python3.11/dist-packages (from httpx<1,>=0.23.0->langsmith>=0.1.125->langchain_community) (4.10.0)\n",
            "Requirement already satisfied: httpcore==1.* in /usr/local/lib/python3.11/dist-packages (from httpx<1,>=0.23.0->langsmith>=0.1.125->langchain_community) (1.0.9)\n",
            "Requirement already satisfied: h11>=0.16 in /usr/local/lib/python3.11/dist-packages (from httpcore==1.*->httpx<1,>=0.23.0->langsmith>=0.1.125->langchain_community) (0.16.0)\n",
            "Requirement already satisfied: jsonpointer>=1.9 in /usr/local/lib/python3.11/dist-packages (from jsonpatch<2.0,>=1.33->langchain-core<1.0.0,>=0.3.66->langchain_community) (3.0.0)\n",
            "Requirement already satisfied: annotated-types>=0.6.0 in /usr/local/lib/python3.11/dist-packages (from pydantic<3.0.0,>=2.7.4->langchain<1.0.0,>=0.3.26->langchain_community) (0.7.0)\n",
            "Requirement already satisfied: pydantic-core==2.33.2 in /usr/local/lib/python3.11/dist-packages (from pydantic<3.0.0,>=2.7.4->langchain<1.0.0,>=0.3.26->langchain_community) (2.33.2)\n",
            "Requirement already satisfied: mypy-extensions>=0.3.0 in /usr/local/lib/python3.11/dist-packages (from typing-inspect<1,>=0.4.0->dataclasses-json<0.7,>=0.5.7->langchain_community) (1.1.0)\n",
            "Requirement already satisfied: sniffio>=1.1 in /usr/local/lib/python3.11/dist-packages (from anyio->httpx<1,>=0.23.0->langsmith>=0.1.125->langchain_community) (1.3.1)\n",
            "Requirement already satisfied: duckduckgo-search in /usr/local/lib/python3.11/dist-packages (8.1.1)\n",
            "Requirement already satisfied: click>=8.1.8 in /usr/local/lib/python3.11/dist-packages (from duckduckgo-search) (8.2.1)\n",
            "Requirement already satisfied: primp>=0.15.0 in /usr/local/lib/python3.11/dist-packages (from duckduckgo-search) (0.15.0)\n",
            "Requirement already satisfied: lxml>=5.3.0 in /usr/local/lib/python3.11/dist-packages (from duckduckgo-search) (5.4.0)\n"
          ]
        }
      ],
      "source": [
        "!pip install langchain_community\n",
        "!pip install -U duckduckgo-search\n",
        "from langchain_core.tools import tool\n",
        "from langchain_community.tools import DuckDuckGoSearchRun"
      ]
    },
    {
      "cell_type": "code",
      "execution_count": null,
      "metadata": {
        "colab": {
          "base_uri": "https://localhost:8080/"
        },
        "id": "aEyXa5Jf5Fhb",
        "outputId": "fd92e2cc-3fe5-4ce2-c62f-4030a244c1b9"
      },
      "outputs": [
        {
          "name": "stdout",
          "output_type": "stream",
          "text": [
            "\n"
          ]
        }
      ],
      "source": [
        "@tool #langchain automatically inspects the function (since langchain has a specific format for tools that the LLM understands)\n",
        "def calculator(expression: str) -> str:\n",
        "    \"\"\"Calculate mathematical expressions. Use this for any math calculations.\"\"\"\n",
        "    try:\n",
        "        result = eval(expression)\n",
        "        return f\"The result of {expression} is {result}\"\n",
        "    except Exception as e:\n",
        "        return f\"Error calculating {expression}: {str(e)}\"\n",
        "\n",
        "search_tool = DuckDuckGoSearchRun() #acess the information concurrently from the web (executes the search across the web)\n",
        "\n",
        "tools = [calculator, search_tool]\n",
        "llm_with_tools = llm.bind_tools(tools)\n",
        "response = llm_with_tools.invoke(\"What's 25 * 4 + 17?\")\n",
        "print(response.content) #no response"
      ]
    },
    {
      "cell_type": "code",
      "execution_count": null,
      "metadata": {
        "colab": {
          "base_uri": "https://localhost:8080/"
        },
        "id": "xDu7aZO55ztJ",
        "outputId": "93d5bf88-1104-49a3-d2d3-c88b1cc3059b"
      },
      "outputs": [
        {
          "data": {
            "text/plain": [
              "AIMessage(content='', additional_kwargs={'tool_calls': [{'id': 'call_BPbG4HqINAwTfDcMu6DHysvk', 'function': {'arguments': '{\"expression\":\"25 * 4 + 17\"}', 'name': 'calculator'}, 'type': 'function'}], 'refusal': None}, response_metadata={'token_usage': {'completion_tokens': 20, 'prompt_tokens': 107, 'total_tokens': 127, 'completion_tokens_details': {'accepted_prediction_tokens': 0, 'audio_tokens': 0, 'reasoning_tokens': 0, 'rejected_prediction_tokens': 0}, 'prompt_tokens_details': {'audio_tokens': 0, 'cached_tokens': 0}}, 'model_name': 'gpt-4.1-mini-2025-04-14', 'system_fingerprint': 'fp_6f2eabb9a5', 'id': 'chatcmpl-C33VGiB2lYK4xfzRz2U2pI5ZCgzsw', 'service_tier': 'default', 'finish_reason': 'tool_calls', 'logprobs': None}, id='run--454b6a0b-56b6-464a-85b9-2762db1ebb29-0', tool_calls=[{'name': 'calculator', 'args': {'expression': '25 * 4 + 17'}, 'id': 'call_BPbG4HqINAwTfDcMu6DHysvk', 'type': 'tool_call'}], usage_metadata={'input_tokens': 107, 'output_tokens': 20, 'total_tokens': 127, 'input_token_details': {'audio': 0, 'cache_read': 0}, 'output_token_details': {'audio': 0, 'reasoning': 0}})"
            ]
          },
          "execution_count": 27,
          "metadata": {},
          "output_type": "execute_result"
        }
      ],
      "source": [
        "response"
      ]
    },
    {
      "cell_type": "code",
      "execution_count": null,
      "metadata": {
        "id": "kok0dUaJ51qJ"
      },
      "outputs": [],
      "source": [
        "tool_map = {\n",
        "    'calculator': calculator,\n",
        "    'duckduckgo_search': search_tool,\n",
        "}\n",
        "\n",
        "def handle_tool_calls(response, tool_map):\n",
        "    if not getattr(response, 'tool_calls', None):\n",
        "        return\n",
        "    print(f\"Tool calls requested: {len(response.tool_calls)}\")\n",
        "    for tool_call in response.tool_calls:\n",
        "        tool_name = tool_call['name']\n",
        "        args = tool_call['args']\n",
        "        print(f\"Tool: {tool_name}\")\n",
        "        print(f\"Args: {args}\")\n",
        "\n",
        "        tool = tool_map.get(tool_name)\n",
        "        if tool:\n",
        "            result = tool.invoke(args)\n",
        "            preview = result[:200] + '...' if isinstance(result, str) and len(result) > 200 else result\n",
        "            print(f\"Tool result: {preview}\") #print first 200 chars for long response(e.g search)"
      ]
    },
    {
      "cell_type": "code",
      "execution_count": null,
      "metadata": {
        "colab": {
          "base_uri": "https://localhost:8080/"
        },
        "id": "eOiH9p6-6_Bq",
        "outputId": "86ce4237-1cd6-4300-e5e1-b6e7249191e8"
      },
      "outputs": [
        {
          "name": "stdout",
          "output_type": "stream",
          "text": [
            "Query: What's 25 * 4 + 17?\n",
            "Response: \n",
            "Tool calls requested: 1\n",
            "Tool: calculator\n",
            "Args: {'expression': '25 * 4 + 17'}\n",
            "Tool result: The result of 25 * 4 + 17 is 117\n",
            "\n",
            "\n",
            "\n",
            "Query: Search for recent news about artificial intelligence\n",
            "Response: \n",
            "Tool calls requested: 1\n",
            "Tool: duckduckgo_search\n",
            "Args: {'query': 'recent news about artificial intelligence'}\n",
            "Tool result: windows 11设置不显示最近打开文件的方法： 1、在开始界面点击设置 2、点击个性化 3、点击开始 4、点击关闭显示最近打开的 ... Oct 17, 2022 · recent文件查看 1/3 打开运行窗口 进入Windows页面后右键点击win图标，在菜单栏中点击【运行】，也可使用win+R键打开运行。 编辑于2022-04-10，内容仅供参考并受版权保护 对于很多已经把电脑Window...\n",
            "\n",
            "\n",
            "\n"
          ]
        },
        {
          "name": "stderr",
          "output_type": "stream",
          "text": [
            "/usr/local/lib/python3.11/dist-packages/langchain_community/utilities/duckduckgo_search.py:63: RuntimeWarning: This package (`duckduckgo_search`) has been renamed to `ddgs`! Use `pip install ddgs` instead.\n",
            "  with DDGS() as ddgs:\n"
          ]
        }
      ],
      "source": [
        "def test_llm_tool(query):\n",
        "    print(f\"Query: {query}\")\n",
        "    response = llm_with_tools.invoke(query) #llm.bind(calculator and search tools)\n",
        "    print(f\"Response: {getattr(response, 'content', response)}\")\n",
        "    handle_tool_calls(response, tool_map)\n",
        "    print('\\n\\n')\n",
        "\n",
        "test_llm_tool(\"What's 25 * 4 + 17?\")\n",
        "test_llm_tool(\"Search for recent news about artificial intelligence\")"
      ]
    },
    {
      "cell_type": "code",
      "execution_count": null,
      "metadata": {
        "colab": {
          "base_uri": "https://localhost:8080/",
          "height": 264
        },
        "id": "hVjRrp8N70Ms",
        "outputId": "c49e0f1e-a2c9-4c00-a054-a374e46763b7"
      },
      "outputs": [
        {
          "name": "stderr",
          "output_type": "stream",
          "text": [
            "/usr/local/lib/python3.11/dist-packages/langchain_community/utilities/duckduckgo_search.py:63: RuntimeWarning: This package (`duckduckgo_search`) has been renamed to `ddgs`! Use `pip install ddgs` instead.\n",
            "  with DDGS() as ddgs:\n"
          ]
        },
        {
          "data": {
            "application/vnd.google.colaboratory.intrinsic+json": {
              "type": "string"
            },
            "text/plain": [
              "'2 days ago · AI News reports on the latest artificial intelligence news and insights. Explore industry trends from the frontline of AI. 1 day ago · Get the latest AI news, live updates, and expert insights on artificial intelligence, machine learning, deep learning, and more at xix.ai. Handpicked daily for developers, … 3 days ago · All the latest breaking news on Artificial Intelligence. Browse Newsweek archives of photos, videos and articles on Artificial Intelligence. 6 days ago · Artificial intelligence has ushered in an era of what insiders in the nation’s innovation capital call “hard tech.” The Rationalists, a community focused on the risks of artificial … Jun 25, 2025 · Artificial Intelligence News. Everything on AI including futuristic robots with artificial intelligence, computer models of human intelligence and more.'"
            ]
          },
          "execution_count": 30,
          "metadata": {},
          "output_type": "execute_result"
        }
      ],
      "source": [
        "#use of langchain expression language to invoke them directly (from duckduckgo search)\n",
        "search_tool.invoke(\"Search for recent news about artificial intelligence\")"
      ]
    },
    {
      "cell_type": "markdown",
      "metadata": {
        "id": "SSOA78y08TXd"
      },
      "source": [
        "Structured Output LLM"
      ]
    },
    {
      "cell_type": "code",
      "execution_count": null,
      "metadata": {
        "id": "11d3iFJq8QQx"
      },
      "outputs": [],
      "source": [
        "from pydantic import BaseModel, Field\n",
        "from typing import List, Optional"
      ]
    },
    {
      "cell_type": "code",
      "execution_count": null,
      "metadata": {
        "colab": {
          "base_uri": "https://localhost:8080/"
        },
        "id": "ZuXPXNHV8p8J",
        "outputId": "c7dada70-711b-40d7-d42b-9fe273b253ef"
      },
      "outputs": [
        {
          "name": "stdout",
          "output_type": "stream",
          "text": [
            "structured output test: \n",
            "Name: John Smith\n",
            "Age: 35\n",
            "Occupation: software engineer\n",
            "Skills: machine learning, Python programming, cloud architecture, AI research\n"
          ]
        }
      ],
      "source": [
        "class PersonInfo(BaseModel):\n",
        "  name: str = Field(description=\"Full name of the person\")\n",
        "  age: Optional[int] = Field(description=\"Age of the person\")\n",
        "  occupation: str = Field(description=\"Person's job or profession\")\n",
        "  skills : List[str] = Field(description=\"List of skills or abilities\")\n",
        "\n",
        "structured_llm = llm.with_structured_output(PersonInfo)\n",
        "print(\"structured output test: \")\n",
        "person_prompt = \"\"\"\n",
        "Extract information about this person:\n",
        "'John Smith is a 35-year old software engineer who works at Google.\n",
        "He specializes in machine larning, Python programming and cloud architecture.\n",
        "John has been working in the tech for over 10 years and is passionate about AI research.\n",
        "\n",
        "\"\"\"\n",
        "person_result = structured_llm.invoke(person_prompt)\n",
        "print(f\"Name: {person_result.name}\")\n",
        "print(f\"Age: {person_result.age}\")\n",
        "print(f\"Occupation: {person_result.occupation}\")\n",
        "print(f\"Skills: {', '.join(person_result.skills)}\")\n"
      ]
    },
    {
      "cell_type": "markdown",
      "metadata": {
        "id": "9j72yG2PeJ7l"
      },
      "source": [
        "#Basic langgrapah chatbot\n"
      ]
    },
    {
      "cell_type": "code",
      "execution_count": null,
      "metadata": {
        "id": "2m2jZo1XfNt6"
      },
      "outputs": [],
      "source": [
        "!pip install -qU langgraph"
      ]
    },
    {
      "cell_type": "code",
      "execution_count": null,
      "metadata": {
        "id": "6Utv9hYXeNlV"
      },
      "outputs": [],
      "source": [
        "from typing import Annotated, TypedDict\n",
        "from langchain_core.messages import BaseMessage, HumanMessage, AIMessage\n",
        "from langgraph.graph.message import add_messages"
      ]
    },
    {
      "cell_type": "code",
      "execution_count": null,
      "metadata": {
        "id": "laHCJ3RgfZDt"
      },
      "outputs": [],
      "source": [
        "class State(TypedDict):\n",
        "  ''' State for our Chatbot  - this holds the conversation history '''\n",
        "  #the add_message func handles appending new messages to the conversation\n",
        "  messages: Annotated[list[BaseMessage], add_messages] #when the state is updated then the add_message should be appended insetead of overwriting to the array\n",
        "\n",
        "llm = ChatOpenAI(model='gpt-4.1-mini', temperature=0.7)"
      ]
    },
    {
      "cell_type": "code",
      "execution_count": null,
      "metadata": {
        "colab": {
          "base_uri": "https://localhost:8080/"
        },
        "id": "UMQ54sYXf1n1",
        "outputId": "9b624161-447a-4208-e3dc-68136b9f3817"
      },
      "outputs": [
        {
          "name": "stdout",
          "output_type": "stream",
          "text": [
            "Chatbot node function created\n"
          ]
        }
      ],
      "source": [
        "def chatbot_node(state: State) -> State:\n",
        "  ''' the main chatbot node that processes messages and generates responses '''\n",
        "  print(f\"processing {len(state['messages'])} messages\")\n",
        "\n",
        "  #get the response from the llm\n",
        "  response = llm.invoke(state['messages'])\n",
        "\n",
        "  #return the updated state with the new response\n",
        "  return {\"messages\": [response]}\n",
        "\n",
        "print(\"Chatbot node function created\")\n"
      ]
    },
    {
      "cell_type": "markdown",
      "metadata": {
        "id": "FvyptI-rhD0p"
      },
      "source": [
        "#build the graph"
      ]
    },
    {
      "cell_type": "code",
      "execution_count": null,
      "metadata": {
        "id": "Q1RxZBjGg5RM"
      },
      "outputs": [],
      "source": [
        "from langgraph.graph import StateGraph, START, END"
      ]
    },
    {
      "cell_type": "code",
      "execution_count": null,
      "metadata": {
        "colab": {
          "base_uri": "https://localhost:8080/",
          "height": 286
        },
        "id": "BaP_4E-bhLNK",
        "outputId": "c901b29f-7724-4bb1-ef24-75ed8f6174a1"
      },
      "outputs": [
        {
          "name": "stdout",
          "output_type": "stream",
          "text": [
            "graph structure created\n",
            "graph compiled successfully\n"
          ]
        },
        {
          "data": {
            "image/png": "[encoded data removed]",
            "text/plain": [
              "<IPython.core.display.Image object>"
            ]
          },
          "metadata": {},
          "output_type": "display_data"
        }
      ],
      "source": [
        "graph_builder = StateGraph(State)\n",
        "\n",
        "#add the chatbot node to the graph\n",
        "graph_builder.add_node(\"chatbot\", chatbot_node)\n",
        "\n",
        "#define the flow: start->chatbot->end\n",
        "graph_builder.add_edge(START, \"chatbot\")\n",
        "graph_builder.add_edge(\"chatbot\", END)\n",
        "\n",
        "#compile the graph\n",
        "graph = graph_builder.compile()\n",
        "\n",
        "print(\"graph structure created\")\n",
        "print(\"graph compiled successfully\")\n",
        "\n",
        "#visualize the graph\n",
        "\n",
        "img = graph.get_graph(xray=True).draw_mermaid_png()\n",
        "with open(\"graph.png\", \"wb\") as f:\n",
        "  f.write(img)\n",
        "\n",
        "from IPython.display import Image, display\n",
        "display(Image(\"graph.png\"))"
      ]
    },
    {
      "cell_type": "markdown",
      "metadata": {
        "id": "mbjUjUrYiSIQ"
      },
      "source": [
        "#Test the chatbot"
      ]
    },
    {
      "cell_type": "code",
      "execution_count": null,
      "metadata": {
        "colab": {
          "base_uri": "https://localhost:8080/"
        },
        "id": "eVC7mRtliTyd",
        "outputId": "0cd3a45a-b7e1-437f-c316-fbd902e2ee3d"
      },
      "outputs": [
        {
          "name": "stdout",
          "output_type": "stream",
          "text": [
            "\n",
            " user: hello, my name Narmadha?\n",
            "processing 1 messages\n",
            "Assistent: Hello, Narmadha! How can I assist you today?\n",
            "\n",
            " user: Do you remember my name\n",
            "processing 1 messages\n",
            "Assistent: I don’t have a record of your name from our previous messages. What should I call you?\n"
          ]
        }
      ],
      "source": [
        "def test_chatbot(message: str):\n",
        "  '''helper functoin to test our chatbot'''\n",
        "  print(f\"\\n user: {message}\")\n",
        "\n",
        "  #create the initial state with the user message\n",
        "  initial_state = {\"messages\": [HumanMessage(content=message)]}\n",
        "\n",
        "  #run the graph\n",
        "  result = graph.invoke(initial_state)\n",
        "\n",
        "  #get the ai response\n",
        "  ai_response = result['messages'][-1].content\n",
        "  print(f\"Assistent: {ai_response}\")\n",
        "\n",
        "  return result\n",
        "\n",
        "#test with simple message\n",
        "test_cases = [\n",
        "    \"hello, my name Narmadha?\",\n",
        "    \"Do you remember my name\"\n",
        "]\n",
        "\n",
        "for test_message in test_cases:\n",
        "  test_chatbot(test_message)"
      ]
    },
    {
      "cell_type": "markdown",
      "metadata": {
        "id": "ArRaQRHlkmBt"
      },
      "source": [
        "#add memory to the chatbot"
      ]
    },
    {
      "cell_type": "code",
      "execution_count": null,
      "metadata": {
        "id": "99DWI9_2kjrn"
      },
      "outputs": [],
      "source": [
        "from langgraph.checkpoint.memory import MemorySaver"
      ]
    },
    {
      "cell_type": "code",
      "execution_count": null,
      "metadata": {
        "colab": {
          "base_uri": "https://localhost:8080/"
        },
        "id": "kwkJYigRktgc",
        "outputId": "9b262b3a-b9d1-4e0d-b01b-7c369a77142d"
      },
      "outputs": [
        {
          "name": "stdout",
          "output_type": "stream",
          "text": [
            "memory added to chatbot\n",
            "\n",
            " testing convo with memo\n",
            "\n",
            " user: Hi, my name is Narmadha\n",
            "processing 1 messages\n",
            "Assistent: Hello Narmadha! How can I assist you today?\n",
            "\n",
            " user: What's my name?\n",
            "processing 3 messages\n",
            "Assistent: Your name is Narmadha. How can I help you further?\n",
            "\n",
            " user: Do you remember my name?\n",
            "processing 5 messages\n",
            "Assistent: Yes, I remember your name is Narmadha. How can I assist you today?\n"
          ]
        }
      ],
      "source": [
        "memory = MemorySaver()\n",
        "\n",
        "#compile the graph with memory\n",
        "graph_with_memory = graph_builder.compile(checkpointer=memory)\n",
        "\n",
        "print(\"memory added to chatbot\")\n",
        "\n",
        "def chat_with_memory(message: str, thread_id: str):\n",
        "  '''chat function with memory '''\n",
        "  print(f\"\\n user: {message}\")\n",
        "\n",
        "  #configuration for the thread\n",
        "  config = {'configurable': {'thread_id': thread_id}}\n",
        "\n",
        "  #create the initial state with the user message to conversation\n",
        "  initial_state = {\"messages\": [HumanMessage(content=message)]}\n",
        "\n",
        "  #run the graph with memory\n",
        "  result = graph_with_memory.invoke(initial_state, config)\n",
        "\n",
        "  #get the ai response\n",
        "  ai_response = result['messages'][-1].content\n",
        "  print(f\"Assistent: {ai_response}\")\n",
        "\n",
        "  #test conversation with memory\n",
        "print('\\n testing convo with memo')\n",
        "\n",
        "chat_with_memory(\"Hi, my name is Narmadha\", thread_id=\"thread-1\")\n",
        "chat_with_memory(\"What's my name?\", thread_id=\"thread-1\")\n",
        "chat_with_memory(\"Do you remember my name?\", thread_id=\"thread-1\")"
      ]
    },
    {
      "cell_type": "markdown",
      "metadata": {
        "id": "Sq91IlIpmzcF"
      },
      "source": [
        "#3. langgraph agent with tools"
      ]
    },
    {
      "cell_type": "code",
      "execution_count": null,
      "metadata": {
        "id": "SWCtGmL6m9TO"
      },
      "outputs": [],
      "source": [
        "class AgentState(TypedDict):\n",
        "  '''state for our two-node agent'''\n",
        "  messages: Annotated[list[BaseMessage], add_messages]\n",
        "\n",
        "#initialize llm with tools\n",
        "llm = ChatOpenAI(model='gpt-4.1-mini', temperature =0.7)\n",
        "llm_with_tools=llm.bind_tools(tools)"
      ]
    },
    {
      "cell_type": "markdown",
      "metadata": {
        "id": "8vABpmjbm33b"
      },
      "source": [
        "creating chatbot node"
      ]
    },
    {
      "cell_type": "code",
      "execution_count": null,
      "metadata": {
        "colab": {
          "base_uri": "https://localhost:8080/"
        },
        "id": "E12URmX3nY4S",
        "outputId": "32216305-8b29-4fd9-e690-973746c2b9b3"
      },
      "outputs": [
        {
          "name": "stdout",
          "output_type": "stream",
          "text": [
            "chatbot node created\n"
          ]
        }
      ],
      "source": [
        "def chatbot_node(state: AgentState) -> AgentState:\n",
        "  '''the chatbot node that decideds whethr to use tools or provide direct responses'''\n",
        "  messages = state[\"messages\"]\n",
        "\n",
        "  #add system prompt\n",
        "  system_message = '''you are a helpful ai assistent. You have access to web search and calculator tools.\n",
        "\n",
        "  Use the web_seach tool when:\n",
        "  - asked about current events, news, or recent information\n",
        "  - need to find specific facts or data\n",
        "  - asked about real-time informaion(weather, stock prices, etc.)\n",
        "\n",
        "  use the calculator tool when:\n",
        "  - asked to perform mathematical calculations\n",
        "  - need to solve math problems\n",
        "\n",
        "  for general knowledge questions that don't require real-time data, answer directly\n",
        "  be helpful and conversational in your response. '''\n",
        "\n",
        "  #prepare messages woth system prompts\n",
        "  all_messages = [{'role':\"system\", \"content\": system_message}] + messages\n",
        "\n",
        "  #get response from llm\n",
        "  response = llm_with_tools.invoke(all_messages)\n",
        "\n",
        "  return {'messages':[response]}\n",
        "\n",
        "print('chatbot node created')"
      ]
    },
    {
      "cell_type": "markdown",
      "metadata": {
        "id": "CjSEqfuUviLn"
      },
      "source": [
        "#creating tool node and routing logic"
      ]
    },
    {
      "cell_type": "code",
      "execution_count": null,
      "metadata": {
        "id": "LoRhd5SsvkL3"
      },
      "outputs": [],
      "source": [
        "from langgraph.prebuilt import ToolNode\n",
        "from typing import Literal"
      ]
    },
    {
      "cell_type": "code",
      "execution_count": null,
      "metadata": {
        "colab": {
          "base_uri": "https://localhost:8080/"
        },
        "id": "cSQgURMovqGl",
        "outputId": "b989c434-8e0b-411a-e0ec-619b5bb12a2f"
      },
      "outputs": [
        {
          "data": {
            "text/plain": [
              "[StructuredTool(name='calculator', description='Calculate mathematical expressions. Use this for any math calculations.', args_schema=<class 'langchain_core.utils.pydantic.calculator'>, func=<function calculator at 0x7b98b257f420>),\n",
              " DuckDuckGoSearchRun(api_wrapper=DuckDuckGoSearchAPIWrapper(region='wt-wt', safesearch='moderate', time='y', max_results=5, backend='auto', source='text'))]"
            ]
          },
          "execution_count": 84,
          "metadata": {},
          "output_type": "execute_result"
        }
      ],
      "source": [
        "tools"
      ]
    },
    {
      "cell_type": "code",
      "execution_count": null,
      "metadata": {
        "colab": {
          "base_uri": "https://localhost:8080/"
        },
        "id": "NbZXqxT_vsjj",
        "outputId": "09267e3a-7796-48a3-f169-3c94045ab760"
      },
      "outputs": [
        {
          "name": "stdout",
          "output_type": "stream",
          "text": [
            "Tool node created\n",
            "Routing logic created\n"
          ]
        }
      ],
      "source": [
        "\n",
        "tool_node = ToolNode(tools)\n",
        "\n",
        "print(\"Tool node created\")\n",
        "\n",
        "\n",
        "def should_continue(state: AgentState) -> Literal[\"tools\", \"end\"]:\n",
        "    \"\"\"\n",
        "    Determine whether to continue to tools or end the conversation\n",
        "    \"\"\"\n",
        "    messages = state[\"messages\"]\n",
        "    last_message = messages[-1]\n",
        "\n",
        "    # If the last message has tool calls, go to tools\n",
        "    if hasattr(last_message, 'tool_calls') and last_message.tool_calls:\n",
        "        return \"tools\"\n",
        "    # Otherwise, end the conversation\n",
        "    else:\n",
        "        return \"end\"\n",
        "\n",
        "print(\"Routing logic created\")"
      ]
    },
    {
      "cell_type": "markdown",
      "metadata": {
        "id": "N6na8BjSw1NF"
      },
      "source": [
        "#building graph\n",
        "\n"
      ]
    },
    {
      "cell_type": "code",
      "execution_count": null,
      "metadata": {
        "id": "tO8WRGM8wvEz"
      },
      "outputs": [],
      "source": [
        "from langgraph.graph import StateGraph, START, END\n",
        "from langgraph.checkpoint.memory import MemorySaver"
      ]
    },
    {
      "cell_type": "code",
      "execution_count": null,
      "metadata": {
        "colab": {
          "base_uri": "https://localhost:8080/",
          "height": 325
        },
        "id": "AYgwMcNLxBt-",
        "outputId": "8f332d81-43bd-4802-e3d3-1727e13742a3"
      },
      "outputs": [
        {
          "name": "stdout",
          "output_type": "stream",
          "text": [
            "Graph compiled with memory\n",
            "\n"
          ]
        },
        {
          "data": {
            "image/png": "[encoded data removed]",
            "text/plain": [
              "<IPython.core.display.Image object>"
            ]
          },
          "metadata": {},
          "output_type": "display_data"
        }
      ],
      "source": [
        "\n",
        "workflow = StateGraph(AgentState)\n",
        "\n",
        "# Add nodes\n",
        "workflow.add_node(\"chatbot\", chatbot_node)\n",
        "workflow.add_node(\"tools\", tool_node)\n",
        "\n",
        "# Set entry point\n",
        "workflow.add_edge(START, \"chatbot\")\n",
        "\n",
        "# Add conditional edges\n",
        "workflow.add_conditional_edges(\n",
        "    \"chatbot\",\n",
        "    should_continue,\n",
        "    {\n",
        "        \"tools\": \"tools\",\n",
        "        \"end\": END,\n",
        "    },\n",
        ")\n",
        "\n",
        "# After using tools, go back to chatbot\n",
        "workflow.add_edge(\"tools\", \"chatbot\")\n",
        "\n",
        "# Compile the graph\n",
        "memory = MemorySaver()\n",
        "app = workflow.compile(checkpointer=memory)\n",
        "\n",
        "print(\"Graph compiled with memory\\n\")\n",
        "\n",
        "# ============================================================================\n",
        "# VISUALIZE THE GRAPH\n",
        "# ============================================================================\n",
        "img = app.get_graph(xray=True).draw_mermaid_png()\n",
        "with open(\"graph.png\", \"wb\") as f:\n",
        "    f.write(img)\n",
        "\n",
        "from IPython.display import Image, display\n",
        "display(Image(\"graph.png\"))"
      ]
    },
    {
      "cell_type": "markdown",
      "metadata": {
        "id": "ETFMudMq8tqn"
      },
      "source": [
        "#testing agent"
      ]
    },
    {
      "cell_type": "code",
      "execution_count": null,
      "metadata": {
        "colab": {
          "base_uri": "https://localhost:8080/"
        },
        "id": "FR5BBCQW8vxl",
        "outputId": "4ace0837-a778-4189-b23f-3ade91cd6d16"
      },
      "outputs": [
        {
          "name": "stdout",
          "output_type": "stream",
          "text": [
            "User: i am narmadha\n",
            "\n",
            "👤 User: i am narmadha\n",
            "🤖 Assistant: Got it, Narmadha! How can I assist you today?\n",
            "User: do you remember my name\n",
            "\n",
            "👤 User: do you remember my name\n",
            "🤖 Assistant: Yes, you mentioned your name is Narmadha. How can I help you today, Narmadha?\n",
            "User: what's 15% of 240\n",
            "\n",
            "👤 User: what's 15% of 240\n",
            "🤖 Assistant: 15% of 240 is 36. If you need help with anything else, feel free to ask!\n",
            "User: what's the latest news about artificial intellegence?\n",
            "\n",
            "👤 User: what's the latest news about artificial intellegence?\n"
          ]
        },
        {
          "name": "stderr",
          "output_type": "stream",
          "text": [
            "/usr/local/lib/python3.11/dist-packages/langchain_community/utilities/duckduckgo_search.py:63: RuntimeWarning: This package (`duckduckgo_search`) has been renamed to `ddgs`! Use `pip install ddgs` instead.\n",
            "  with DDGS() as ddgs:\n",
            "sys:1: ResourceWarning: Unclosed socket <zmq.Socket(zmq.PUSH) at 0x7b98b0e74050>\n",
            "ResourceWarning: Enable tracemalloc to get the object allocation traceback\n"
          ]
        },
        {
          "name": "stdout",
          "output_type": "stream",
          "text": [
            "🔧 Tool Result: Breaking news from Hong Kong, China and Asia including geopolitics, diplomacy, economy, technology, ...\n",
            "🤖 Assistant: I found some search results, but they do not seem to include the latest news about artificial intelligence specifically. Let me try again to find the most recent updates on artificial intelligence.\n",
            "🔧 Tool Result: Breaking news from Hong Kong, China and Asia including geopolitics, diplomacy, economy, technology, ...\n"
          ]
        },
        {
          "name": "stderr",
          "output_type": "stream",
          "text": [
            "/usr/local/lib/python3.11/dist-packages/langchain_community/utilities/duckduckgo_search.py:63: RuntimeWarning: This package (`duckduckgo_search`) has been renamed to `ddgs`! Use `pip install ddgs` instead.\n",
            "  with DDGS() as ddgs:\n",
            "sys:1: ResourceWarning: Unclosed socket <zmq.Socket(zmq.PUSH) at 0x7b98b0f33850>\n",
            "ResourceWarning: Enable tracemalloc to get the object allocation traceback\n"
          ]
        },
        {
          "name": "stdout",
          "output_type": "stream",
          "text": [
            "🤖 Assistant: It seems the search results are not showing the latest specific news about artificial intelligence. If you want, I can provide a summary of recent trends and developments in AI based on what is generally known up to now. Would you like me to do that?\n",
            "User: can you tell me more about that?\n",
            "\n",
            "👤 User: can you tell me more about that?\n",
            "🤖 Assistant: Certainly! Here’s a summary of some recent trends and developments in artificial intelligence as of 2024:\n",
            "\n",
            "1. **Generative AI Advances**: Models like GPT-4 and other large language models have continued to improve, enabling more natural and creative text generation. These models are being integrated into various applications including chatbots, content creation tools, and programming assistants.\n",
            "\n",
            "2. **AI in Healthcare**: AI is increasingly used for diagnostics, drug discovery, and personalized medicine. Algorithms help analyze medical images, predict patient outcomes, and assist in clinical decision-making.\n",
            "\n",
            "3. **Ethics and Regulation**: With AI’s growing impact, there is more focus on ethical considerations such as bias, privacy, and transparency. Governments and organizations are working on regulations to ensure responsible AI use.\n",
            "\n",
            "4. **AI and Automation**: AI-powered automation is transforming industries like manufacturing, logistics, and customer service, improving efficiency and reducing costs.\n",
            "\n",
            "5. **Multimodal AI**: Advances in models that can process and generate multiple types of data (text, images, audio) simultaneously are enabling new applications like AI-powered design tools and virtual assistants.\n",
            "\n",
            "6. **AI for Climate and Environment**: AI is being used to model climate change, optimize energy use, and support environmental conservation efforts.\n",
            "\n",
            "If you want, I can also help find specific recent news articles or research papers on any of these topics!\n",
            "User: exit\n"
          ]
        }
      ],
      "source": [
        "from langchain_core.messages import HumanMessage, AIMessage, ToolMessage\n",
        "def chat_with_agent(message: str, thread_id: str):\n",
        "    \"\"\"Chat with the two-node agent\"\"\"\n",
        "    print(f\"\\n👤 User: {message}\")\n",
        "\n",
        "    config = {\"configurable\": {\"thread_id\": thread_id}}\n",
        "\n",
        "    # Stream the response to see the process\n",
        "    messages_to_process = {\"messages\": [HumanMessage(content=message)]}\n",
        "\n",
        "    for event in app.stream(messages_to_process, config):\n",
        "        for value in event.values():\n",
        "            if \"messages\" in value:\n",
        "                last_message = value[\"messages\"][-1]\n",
        "                if hasattr(last_message, 'content') and last_message.content:\n",
        "                    if isinstance(last_message, AIMessage):\n",
        "                        print(f\" Assistant: {last_message.content}\")\n",
        "                    elif isinstance(last_message, ToolMessage):\n",
        "                        print(f\" Tool Result: {last_message.content[:100]}...\")\n",
        "\n",
        "while True:\n",
        "    user_input = input(\"User: \")\n",
        "    if user_input.lower() == \"exit\":\n",
        "        break\n",
        "    chat_with_agent(user_input, thread_id=\"thread-2\")\n",
        "\n",
        "\n",
        "#question\n",
        "#i am narmadha\n",
        "#do you remember my name\n",
        "#what's 15%of 240?\n",
        "#what's the latest news about ai?\n",
        "#follow-up: can you tell me more about that?"
      ]
    }
  ],
  "metadata": {
    "colab": {
      "provenance": []
    },
    "kernelspec": {
      "display_name": "Python 3",
      "name": "python3"
    },
    "language_info": {
      "name": "python"
    }
  },
  "nbformat": 4,
  "nbformat_minor": 0
}
